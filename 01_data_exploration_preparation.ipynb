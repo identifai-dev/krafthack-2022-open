{
 "cells": [
  {
   "cell_type": "markdown",
   "metadata": {},
   "source": [
    "# Part I - Data exploration & preparation\n",
    "\n",
    "In this notebook, you will...\n",
    "* Visualize each of the sensors of each dataset\n",
    "* Join the two datasets together for visualization\n",
    "* Add features (listed below)\n",
    "\n",
    "\n",
    "### First, let's start by importing the necessary libraries"
   ]
  },
  {
   "cell_type": "code",
   "execution_count": null,
   "metadata": {},
   "outputs": [],
   "source": [
    "from pathlib import Path\n",
    "\n",
    "import pandas as pd\n",
    "\n",
    "\n",
    "import seaborn as sns\n",
    "import matplotlib.pyplot as plt\n",
    "import plotly.graph_objects as go"
   ]
  },
  {
   "cell_type": "markdown",
   "metadata": {},
   "source": [
    "### Directories"
   ]
  },
  {
   "cell_type": "code",
   "execution_count": null,
   "metadata": {},
   "outputs": [],
   "source": [
    "current_dir = Path.cwd()\n",
    "root_dir = current_dir.parent\n",
    "data_dir = Path(current_dir, \"data\")"
   ]
  },
  {
   "cell_type": "markdown",
   "metadata": {},
   "source": [
    "### Read in the data\n",
    "We have two input files -  input_dataset_1 and input_dataset_2. They are parquet files, so we will use the pandas parquet reader in order to read them in "
   ]
  },
  {
   "cell_type": "code",
   "execution_count": null,
   "metadata": {},
   "outputs": [],
   "source": [
    "input_dataset_1 = pd.read_parquet(Path(data_dir, \"input_dataset-1.parquet\"))\n",
    "input_dataset_2 = pd.read_parquet(Path(data_dir, \"input_dataset-2.parquet\"))"
   ]
  },
  {
   "cell_type": "markdown",
   "metadata": {},
   "source": [
    "## Let's explore the data"
   ]
  },
  {
   "cell_type": "code",
   "execution_count": null,
   "metadata": {},
   "outputs": [],
   "source": [
    "input_dataset_1.head()"
   ]
  },
  {
   "cell_type": "code",
   "execution_count": null,
   "metadata": {},
   "outputs": [],
   "source": [
    "input_dataset_2.head()"
   ]
  },
  {
   "cell_type": "code",
   "execution_count": null,
   "metadata": {},
   "outputs": [],
   "source": [
    "print(\"We have {} columns in input_dataset_1: {} \\n\".format(len(input_dataset_1.keys()), input_dataset_1.keys()))\n",
    "print(\"We have {} columns in input_dataset_2: {}\".format(len(input_dataset_2.keys()), input_dataset_2.keys()))"
   ]
  },
  {
   "cell_type": "markdown",
   "metadata": {},
   "source": [
    "You'll notice we have 20 columns in input dataset 1 and 22 columns in input dataset 2. There are two vibration sensors in input dataset 2 that are missing from the first dataset. We have sneosrs for power, reactive power, and other sensors related to the turbine behaviour (guide vane opening, rotational speed, pressure in the draft tube, and pressure in the spiral casing). We also have information related to the bolts - a temperature sensor, torsion, and tension in 6 of the bolts installed on turbine. "
   ]
  },
  {
   "cell_type": "markdown",
   "metadata": {},
   "source": [
    "Let's group the columns for easier evaluation later. We will create one group for operating conditions, one for temperature, one for bolt tensiles, one for bolt torsions, one for vibrations."
   ]
  },
  {
   "cell_type": "code",
   "execution_count": null,
   "metadata": {},
   "outputs": [],
   "source": [
    "ops = ['Unit_4_Power', 'Unit_4_Reactive Power', 'Turbine_Guide Vane Opening',\n",
    "       'Turbine_Pressure Drafttube', 'Turbine_Pressure Spiral Casing',\n",
    "       'Turbine_Rotational Speed', 'mode', 'Bolt_1_Steel tmp']\n",
    "\n",
    "bolt_temp = ['Bolt_1_Steel tmp']\n",
    "\n",
    "bolt_tensiles = ['Bolt_1_Tensile', 'Bolt_2_Tensile',  'Bolt_3_Tensile', \n",
    "                 'Bolt_4_Tensile', 'Bolt_5_Tensile',  'Bolt_6_Tensile']\n",
    "\n",
    "bolt_torsions = ['Bolt_1_Torsion',  'Bolt_2_Torsion', 'Bolt_3_Torsion',\n",
    "                 'Bolt_4_Torsion', 'Bolt_5_Torsion',  'Bolt_6_Torsion']\n",
    "\n",
    "vibrations = ['lower_bearing_vib_vrt', 'turbine_bearing_vib_vrt'] "
   ]
  },
  {
   "cell_type": "markdown",
   "metadata": {},
   "source": [
    "### When does the data start and end?"
   ]
  },
  {
   "cell_type": "code",
   "execution_count": null,
   "metadata": {},
   "outputs": [],
   "source": [
    "print(\"Input Dataset 1:\\n start: {} \\n end: {}\\n\".format(input_dataset_1.index.min(), input_dataset_1.index.max()))\n",
    "print(\"Input Dataset 2:\\n start: {} \\n end: {}\".format(input_dataset_2.index.min(), input_dataset_2.index.max()))"
   ]
  },
  {
   "cell_type": "markdown",
   "metadata": {},
   "source": [
    "### How is the sampling rate?\n",
    "\n",
    "The majority of the data is measured at regular intervals, with a 1 Hz sampling rate. However there are some variations, and there are sometimes longer periods of time between measurements. Once we will begin looking at the data, we will be able to say if this is important to consider in training our model."
   ]
  },
  {
   "cell_type": "code",
   "execution_count": null,
   "metadata": {},
   "outputs": [],
   "source": [
    "input_dataset_1.index.to_series().diff().value_counts()"
   ]
  },
  {
   "cell_type": "code",
   "execution_count": null,
   "metadata": {},
   "outputs": [],
   "source": [
    "input_dataset_2.index.to_series().diff().value_counts()"
   ]
  },
  {
   "cell_type": "markdown",
   "metadata": {},
   "source": [
    "### Let's start looking at the data"
   ]
  },
  {
   "cell_type": "code",
   "execution_count": null,
   "metadata": {},
   "outputs": [],
   "source": [
    "fig, ax1 = plt.subplots(figsize=(20, 10))\n",
    "\n",
    "for t in bolt_tensiles:\n",
    "    ax1.scatter(input_dataset_1.index, \n",
    "                input_dataset_1[t], label=t,\n",
    "                s=1, alpha=0.1)\n",
    "    \n",
    "    \n",
    "fig.legend()\n",
    "\n",
    "plt.show()"
   ]
  },
  {
   "cell_type": "code",
   "execution_count": null,
   "metadata": {},
   "outputs": [],
   "source": [
    "fig, ax1 = plt.subplots(figsize=(20, 10))\n",
    "\n",
    "for t in bolt_tensiles:\n",
    "    ax1.scatter(input_dataset_2.index, \n",
    "                input_dataset_2[t], label=t,\n",
    "                s=1, alpha=0.1)\n",
    "    \n",
    "    \n",
    "fig.legend()\n",
    "\n",
    "plt.show()"
   ]
  }
 ],
 "metadata": {
  "kernelspec": {
   "display_name": "Python 3",
   "language": "python",
   "name": "python3"
  },
  "language_info": {
   "codemirror_mode": {
    "name": "ipython",
    "version": 3
   },
   "file_extension": ".py",
   "mimetype": "text/x-python",
   "name": "python",
   "nbconvert_exporter": "python",
   "pygments_lexer": "ipython3",
   "version": "3.8.5"
  }
 },
 "nbformat": 4,
 "nbformat_minor": 4
}
