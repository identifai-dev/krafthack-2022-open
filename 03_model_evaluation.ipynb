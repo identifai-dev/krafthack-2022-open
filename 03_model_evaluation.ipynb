{
 "cells": [
  {
   "cell_type": "markdown",
   "metadata": {},
   "source": [
    "# Part III - Model evaluation\n",
    "\n",
    "### Using the output of each of the models, how can we evaluate them most effectively?\n",
    "* How do we evaluate model performance?\n",
    "    * Mean Absolute Error\n",
    "    * Mean Squared Error\n",
    "    * Explained Variance\n",
    "\n",
    "* Look at total model performance across all of the 6 bolt tensiles\n",
    "* Look at individual model performance for each of the bolt tensiles\n"
   ]
  },
  {
   "cell_type": "code",
   "execution_count": null,
   "metadata": {},
   "outputs": [],
   "source": [
    "# Coming soon"
   ]
  }
 ],
 "metadata": {
  "kernelspec": {
   "display_name": "Python 3",
   "language": "python",
   "name": "python3"
  },
  "language_info": {
   "codemirror_mode": {
    "name": "ipython",
    "version": 3
   },
   "file_extension": ".py",
   "mimetype": "text/x-python",
   "name": "python",
   "nbconvert_exporter": "python",
   "pygments_lexer": "ipython3",
   "version": "3.8.5"
  }
 },
 "nbformat": 4,
 "nbformat_minor": 4
}
